{
 "cells": [
  {
   "attachments": {},
   "cell_type": "markdown",
   "metadata": {},
   "source": [
    "### Data cleaning and transformation"
   ]
  },
  {
   "cell_type": "code",
   "execution_count": 1,
   "metadata": {},
   "outputs": [],
   "source": [
    "# Import required modules\n",
    "import os\n",
    "import sys\n",
    "import asyncio\n",
    "import nest_asyncio\n",
    "import logging\n",
    "import pandas as pd\n",
    "from dotenv import load_dotenv\n",
    "from telethon import TelegramClient\n",
    "\n",
    "current_dir = os.getcwd()\n",
    "# Append the parent directory to sys.path\n",
    "parent_dir = os.path.dirname(current_dir)\n",
    "sys.path.append(parent_dir)\n",
    "\n",
    "# ignore warrnings\n",
    "import warnings\n",
    "warnings.filterwarnings(\"ignore\")"
   ]
  },
  {
   "cell_type": "code",
   "execution_count": 2,
   "metadata": {},
   "outputs": [],
   "source": [
    "from database.database_conn import insert_dataframe_to_db\n",
    "from scripts.data_cleaner import DataCleaner"
   ]
  },
  {
   "attachments": {},
   "cell_type": "markdown",
   "metadata": {},
   "source": [
    "### Read extracted telegram data for cleaning and trasformation"
   ]
  },
  {
   "cell_type": "code",
   "execution_count": 3,
   "metadata": {},
   "outputs": [],
   "source": [
    "df = pd.read_csv('scraped_telegram_messages.csv')"
   ]
  },
  {
   "cell_type": "code",
   "execution_count": 4,
   "metadata": {},
   "outputs": [],
   "source": [
    "DataCleaner = DataCleaner(df)"
   ]
  },
  {
   "cell_type": "code",
   "execution_count": 5,
   "metadata": {},
   "outputs": [
    {
     "name": "stderr",
     "output_type": "stream",
     "text": [
      "2024-10-10 23:08:56,597 - INFO - Removed 1809 duplicate rows.\n"
     ]
    }
   ],
   "source": [
    "cleand_df = DataCleaner.remove_duplicates()"
   ]
  },
  {
   "cell_type": "code",
   "execution_count": 6,
   "metadata": {},
   "outputs": [
    {
     "name": "stderr",
     "output_type": "stream",
     "text": [
      "2024-10-10 23:08:56,877 - INFO - Removed 581 rows due to missing values.\n"
     ]
    }
   ],
   "source": [
    "DataCleaner.handle_missing_values()"
   ]
  },
  {
   "cell_type": "code",
   "execution_count": 7,
   "metadata": {},
   "outputs": [
    {
     "name": "stderr",
     "output_type": "stream",
     "text": [
      "2024-10-10 23:08:57,316 - INFO - Standardized date formats and cleaned text fields.\n"
     ]
    }
   ],
   "source": [
    "DataCleaner.standardize_formats()"
   ]
  },
  {
   "cell_type": "code",
   "execution_count": 8,
   "metadata": {},
   "outputs": [
    {
     "name": "stderr",
     "output_type": "stream",
     "text": [
      "2024-10-10 23:08:57,636 - INFO - Data validation completed.\n"
     ]
    }
   ],
   "source": [
    "DataCleaner.validate_data()"
   ]
  },
  {
   "cell_type": "code",
   "execution_count": 9,
   "metadata": {},
   "outputs": [
    {
     "name": "stderr",
     "output_type": "stream",
     "text": [
      "2024-10-10 23:08:58,116 - INFO - Cleaned data stored in ../data/cleaned_data.csv\n"
     ]
    }
   ],
   "source": [
    "DataCleaner.store_cleaned_data('../data/cleaned_data.csv')"
   ]
  },
  {
   "cell_type": "code",
   "execution_count": 10,
   "metadata": {},
   "outputs": [],
   "source": [
    "final_df = DataCleaner.get_cleaned_data()"
   ]
  },
  {
   "cell_type": "code",
   "execution_count": 11,
   "metadata": {},
   "outputs": [
    {
     "data": {
      "text/html": [
       "<div>\n",
       "<style scoped>\n",
       "    .dataframe tbody tr th:only-of-type {\n",
       "        vertical-align: middle;\n",
       "    }\n",
       "\n",
       "    .dataframe tbody tr th {\n",
       "        vertical-align: top;\n",
       "    }\n",
       "\n",
       "    .dataframe thead th {\n",
       "        text-align: right;\n",
       "    }\n",
       "</style>\n",
       "<table border=\"1\" class=\"dataframe\">\n",
       "  <thead>\n",
       "    <tr style=\"text-align: right;\">\n",
       "      <th></th>\n",
       "      <th>id</th>\n",
       "      <th>text</th>\n",
       "      <th>sender</th>\n",
       "      <th>channel</th>\n",
       "      <th>date</th>\n",
       "    </tr>\n",
       "  </thead>\n",
       "  <tbody>\n",
       "    <tr>\n",
       "      <th>0</th>\n",
       "      <td>864</td>\n",
       "      <td>https://youtu.be/5DBoEm-8kmA?si=LDLuEecNfULJVD...</td>\n",
       "      <td>-1001102021238</td>\n",
       "      <td>DoctorsET</td>\n",
       "      <td>2023-12-18 17:04:02+00:00</td>\n",
       "    </tr>\n",
       "    <tr>\n",
       "      <th>1</th>\n",
       "      <td>863</td>\n",
       "      <td>ዶክተርስ ኢትዮጵያ በ አዲስ አቀራረብ በ ቴሌቪዥን ፕሮግራሙን ለመጀመር ከ...</td>\n",
       "      <td>-1001102021238</td>\n",
       "      <td>DoctorsET</td>\n",
       "      <td>2023-11-03 16:14:39+00:00</td>\n",
       "    </tr>\n",
       "    <tr>\n",
       "      <th>2</th>\n",
       "      <td>862</td>\n",
       "      <td>ሞት በስኳር \\n\\nለልጆቻችን የምናሲዘው ምሳቃ ሳናቀው እድሚያቸውን ይቀን...</td>\n",
       "      <td>-1001102021238</td>\n",
       "      <td>DoctorsET</td>\n",
       "      <td>2023-10-02 16:37:39+00:00</td>\n",
       "    </tr>\n",
       "    <tr>\n",
       "      <th>3</th>\n",
       "      <td>861</td>\n",
       "      <td>ከ HIV የተፈወሰ ሰው አጋጥሟችሁ ያቃል ? ፈውስ እና ህክምና ?\\n\\nሙ...</td>\n",
       "      <td>-1001102021238</td>\n",
       "      <td>DoctorsET</td>\n",
       "      <td>2023-09-16 07:54:32+00:00</td>\n",
       "    </tr>\n",
       "    <tr>\n",
       "      <th>4</th>\n",
       "      <td>860</td>\n",
       "      <td>በቅርብ ጊዜ በሃገራችን ላይ እየተስተዋለ ያለ የተመሳሳይ ፆታ ( Homos...</td>\n",
       "      <td>-1001102021238</td>\n",
       "      <td>DoctorsET</td>\n",
       "      <td>2023-09-01 16:16:15+00:00</td>\n",
       "    </tr>\n",
       "    <tr>\n",
       "      <th>...</th>\n",
       "      <td>...</td>\n",
       "      <td>...</td>\n",
       "      <td>...</td>\n",
       "      <td>...</td>\n",
       "      <td>...</td>\n",
       "    </tr>\n",
       "    <tr>\n",
       "      <th>5589</th>\n",
       "      <td>858</td>\n",
       "      <td>🧿 ለመሆኑ November 14/ ህዳር 4 የአለም የስኳር በሽታ ቀን መሆኑ...</td>\n",
       "      <td>-1001447066276</td>\n",
       "      <td>yetenaweg</td>\n",
       "      <td>2023-11-14 10:11:50+00:00</td>\n",
       "    </tr>\n",
       "    <tr>\n",
       "      <th>5593</th>\n",
       "      <td>854</td>\n",
       "      <td>💥የጤና ወግ መረጃ ሰጪ የሆነ #ጤናንበጃዝ የክለብሀውስ  ቆይታችንን  የል...</td>\n",
       "      <td>-1001447066276</td>\n",
       "      <td>yetenaweg</td>\n",
       "      <td>2023-11-07 13:25:38+00:00</td>\n",
       "    </tr>\n",
       "    <tr>\n",
       "      <th>5594</th>\n",
       "      <td>853</td>\n",
       "      <td>🚨 ማስታወሻ \\nይህን አስተማሪ ውይይት ዛሬ ከምሽቱ 12:00 ይቀላቀሉ!!!!</td>\n",
       "      <td>-1001447066276</td>\n",
       "      <td>yetenaweg</td>\n",
       "      <td>2023-11-05 11:26:26+00:00</td>\n",
       "    </tr>\n",
       "    <tr>\n",
       "      <th>6073</th>\n",
       "      <td>328</td>\n",
       "      <td>🎙Yetenaweg &amp;\\n🎶 Ethiopia Jazz Hour \\n🎧👋 On clu...</td>\n",
       "      <td>-1001447066276</td>\n",
       "      <td>yetenaweg</td>\n",
       "      <td>2021-06-24 05:11:06+00:00</td>\n",
       "    </tr>\n",
       "    <tr>\n",
       "      <th>6075</th>\n",
       "      <td>326</td>\n",
       "      <td>https://yetenaweg.com/</td>\n",
       "      <td>-1001447066276</td>\n",
       "      <td>yetenaweg</td>\n",
       "      <td>2021-06-20 21:11:39+00:00</td>\n",
       "    </tr>\n",
       "  </tbody>\n",
       "</table>\n",
       "<p>3979 rows × 5 columns</p>\n",
       "</div>"
      ],
      "text/plain": [
       "       id                                               text         sender  \\\n",
       "0     864  https://youtu.be/5DBoEm-8kmA?si=LDLuEecNfULJVD... -1001102021238   \n",
       "1     863  ዶክተርስ ኢትዮጵያ በ አዲስ አቀራረብ በ ቴሌቪዥን ፕሮግራሙን ለመጀመር ከ... -1001102021238   \n",
       "2     862  ሞት በስኳር \\n\\nለልጆቻችን የምናሲዘው ምሳቃ ሳናቀው እድሚያቸውን ይቀን... -1001102021238   \n",
       "3     861  ከ HIV የተፈወሰ ሰው አጋጥሟችሁ ያቃል ? ፈውስ እና ህክምና ?\\n\\nሙ... -1001102021238   \n",
       "4     860  በቅርብ ጊዜ በሃገራችን ላይ እየተስተዋለ ያለ የተመሳሳይ ፆታ ( Homos... -1001102021238   \n",
       "...   ...                                                ...            ...   \n",
       "5589  858  🧿 ለመሆኑ November 14/ ህዳር 4 የአለም የስኳር በሽታ ቀን መሆኑ... -1001447066276   \n",
       "5593  854  💥የጤና ወግ መረጃ ሰጪ የሆነ #ጤናንበጃዝ የክለብሀውስ  ቆይታችንን  የል... -1001447066276   \n",
       "5594  853   🚨 ማስታወሻ \\nይህን አስተማሪ ውይይት ዛሬ ከምሽቱ 12:00 ይቀላቀሉ!!!! -1001447066276   \n",
       "6073  328  🎙Yetenaweg &\\n🎶 Ethiopia Jazz Hour \\n🎧👋 On clu... -1001447066276   \n",
       "6075  326                             https://yetenaweg.com/ -1001447066276   \n",
       "\n",
       "        channel                      date  \n",
       "0     DoctorsET 2023-12-18 17:04:02+00:00  \n",
       "1     DoctorsET 2023-11-03 16:14:39+00:00  \n",
       "2     DoctorsET 2023-10-02 16:37:39+00:00  \n",
       "3     DoctorsET 2023-09-16 07:54:32+00:00  \n",
       "4     DoctorsET 2023-09-01 16:16:15+00:00  \n",
       "...         ...                       ...  \n",
       "5589  yetenaweg 2023-11-14 10:11:50+00:00  \n",
       "5593  yetenaweg 2023-11-07 13:25:38+00:00  \n",
       "5594  yetenaweg 2023-11-05 11:26:26+00:00  \n",
       "6073  yetenaweg 2021-06-24 05:11:06+00:00  \n",
       "6075  yetenaweg 2021-06-20 21:11:39+00:00  \n",
       "\n",
       "[3979 rows x 5 columns]"
      ]
     },
     "execution_count": 11,
     "metadata": {},
     "output_type": "execute_result"
    }
   ],
   "source": [
    "final_df"
   ]
  },
  {
   "cell_type": "code",
   "execution_count": 12,
   "metadata": {},
   "outputs": [
    {
     "name": "stderr",
     "output_type": "stream",
     "text": [
      "2024-10-10 23:09:01,212 - INFO - Database connection established successfully.\n",
      "2024-10-10 23:09:05,855 - INFO - Data successfully inserted into the PostgreSQL database.\n",
      "2024-10-10 23:09:05,858 - INFO - Database connection closed.\n"
     ]
    }
   ],
   "source": [
    "# Call the function to insert the DataFrame into PostgreSQL\n",
    "insert_dataframe_to_db(final_df)"
   ]
  },
  {
   "cell_type": "code",
   "execution_count": null,
   "metadata": {},
   "outputs": [],
   "source": []
  }
 ],
 "metadata": {
  "kernelspec": {
   "display_name": ".venv",
   "language": "python",
   "name": "python3"
  },
  "language_info": {
   "codemirror_mode": {
    "name": "ipython",
    "version": 3
   },
   "file_extension": ".py",
   "mimetype": "text/x-python",
   "name": "python",
   "nbconvert_exporter": "python",
   "pygments_lexer": "ipython3",
   "version": "3.12.6"
  },
  "orig_nbformat": 4
 },
 "nbformat": 4,
 "nbformat_minor": 2
}
