{
 "cells": [
  {
   "attachments": {},
   "cell_type": "markdown",
   "metadata": {},
   "source": [
    "## Telegram data scraping"
   ]
  },
  {
   "cell_type": "code",
   "execution_count": 1,
   "metadata": {},
   "outputs": [],
   "source": [
    "# Import required modules\n",
    "import os\n",
    "import sys\n",
    "import asyncio\n",
    "import nest_asyncio\n",
    "import logging\n",
    "import pandas as pd\n",
    "from dotenv import load_dotenv\n",
    "from telethon import TelegramClient\n",
    "\n",
    "current_dir = os.getcwd()\n",
    "# Append the parent directory to sys.path\n",
    "parent_dir = os.path.dirname(current_dir)\n",
    "sys.path.append(parent_dir)\n",
    "\n",
    "# ignore warrnings\n",
    "import warnings\n",
    "warnings.filterwarnings(\"ignore\")"
   ]
  },
  {
   "cell_type": "code",
   "execution_count": 2,
   "metadata": {},
   "outputs": [],
   "source": [
    "# Import custom scripts\n",
    "from scripts.photo_scraper import download_images\n",
    "from scripts.telegram_data_scraping import scrape_messages"
   ]
  },
  {
   "cell_type": "code",
   "execution_count": 3,
   "metadata": {},
   "outputs": [],
   "source": [
    "# Apply nest_asyncio to handle event loop issues in Jupyter\n",
    "nest_asyncio.apply()"
   ]
  },
  {
   "cell_type": "code",
   "execution_count": 4,
   "metadata": {},
   "outputs": [
    {
     "data": {
      "text/plain": [
       "True"
      ]
     },
     "execution_count": 4,
     "metadata": {},
     "output_type": "execute_result"
    }
   ],
   "source": [
    "# Load environment variables from .env file\n",
    "load_dotenv()"
   ]
  },
  {
   "cell_type": "code",
   "execution_count": 5,
   "metadata": {},
   "outputs": [],
   "source": [
    "# Fetch API credentials from .env\n",
    "api_id = os.getenv('API_ID')\n",
    "api_hash = os.getenv('API_HASH')\n",
    "phone_number = os.getenv('PHONE_NUMBER')"
   ]
  },
  {
   "cell_type": "code",
   "execution_count": 8,
   "metadata": {},
   "outputs": [],
   "source": [
    "# Initialize logging\n",
    "logging.basicConfig(\n",
    "    level=logging.INFO,\n",
    "    format='%(asctime)s - %(levelname)s - %(message)s',\n",
    "    handlers=[\n",
    "        logging.FileHandler(\"../logs/scraping.log\"),  # Save logs to a file\n",
    "        logging.StreamHandler()  # Output logs to console\n",
    "    ]\n",
    ")"
   ]
  },
  {
   "cell_type": "code",
   "execution_count": 9,
   "metadata": {},
   "outputs": [],
   "source": [
    "# Initialize the Telegram client using environment variables\n",
    "client = TelegramClient('session_name', api_id, api_hash)"
   ]
  },
  {
   "cell_type": "code",
   "execution_count": 10,
   "metadata": {},
   "outputs": [],
   "source": [
    "# Function to scrape images and messages from channels\n",
    "async def scrape_channels(channel_urls):\n",
    "    all_messages = []\n",
    "\n",
    "    for channel_url in channel_urls:\n",
    "        # Scrape and download images\n",
    "        # await scrape_images(channel_url)\n",
    "        \n",
    "        # Scrape messages and store in DataFrame\n",
    "        df = await scrape_messages(channel_url, client)\n",
    "        all_messages.append(df)\n",
    "\n",
    "    # Combine all DataFrames\n",
    "    final_df = pd.concat(all_messages, ignore_index=True)\n",
    "    return final_df"
   ]
  },
  {
   "cell_type": "code",
   "execution_count": 11,
   "metadata": {},
   "outputs": [],
   "source": [
    "# Function to scrape images from a channel\n",
    "async def scrape_images(channel_url, client):\n",
    "    \"\"\"\n",
    "    Scrape images from a Telegram channel and download them.\n",
    "\n",
    "    Args:\n",
    "        channel_url: The URL of the Telegram channel.\n",
    "        client: The Telegram client used to interact with the Telegram API.\n",
    "    \"\"\"\n",
    "    try:\n",
    "        logging.info(f\"Scraping images from channel: {channel_url}\")\n",
    "        \n",
    "        # Get the channel entity\n",
    "        channel = await client.get_entity(channel_url)\n",
    "        channel_name = channel.username or channel.title.replace(' ', '_')\n",
    "\n",
    "        # Scrape messages and download images\n",
    "        async for message in client.iter_messages(channel):\n",
    "            await download_images(message, channel_name, client)\n",
    "        \n",
    "        logging.info(f\"Finished scraping images from channel: {channel_url}\")\n",
    "    except Exception as e:\n",
    "        logging.error(f\"Error scraping images from channel {channel_url}: {e}\")"
   ]
  },
  {
   "cell_type": "code",
   "execution_count": 14,
   "metadata": {},
   "outputs": [],
   "source": [
    "# Run the scraping in the notebook\n",
    "async def main():\n",
    "    channel_urls = ['t.me/DoctorsET', 't.me/lobelia4cosmetics', 't.me/CheMed123', 't.me/EAHCI', 'yetenaweg']  # Add your channel URLs here\n",
    "\n",
    "    try:\n",
    "        # Start the Telegram client\n",
    "        await client.start(phone=phone_number)\n",
    "        \n",
    "        # Scrape channels and get the final DataFrame\n",
    "        df = await scrape_channels(channel_urls)\n",
    "        \n",
    "        # Save the DataFrame to a CSV file\n",
    "        df.to_csv('../data/scraped_telegram_messages.csv', index=False)\n",
    "        \n",
    "        logging.info(\"Data successfully saved to '../data/scraped_telegram_messages.csv'\")\n",
    "        return df\n",
    "    except Exception as e:\n",
    "        logging.error(f\"Error in main process: {e}\")"
   ]
  },
  {
   "cell_type": "code",
   "execution_count": 15,
   "metadata": {},
   "outputs": [
    {
     "name": "stderr",
     "output_type": "stream",
     "text": [
      "2024-10-11 23:00:29,014 - INFO - Scraping messages from channel: t.me/DoctorsET\n",
      "2024-10-11 23:00:44,350 - INFO - Finished scraping messages from channel: t.me/DoctorsET\n",
      "2024-10-11 23:00:44,353 - INFO - Scraping messages from channel: t.me/lobelia4cosmetics\n",
      "2024-10-11 23:01:10,577 - INFO - Finished scraping messages from channel: t.me/lobelia4cosmetics\n",
      "2024-10-11 23:01:10,579 - INFO - Scraping messages from channel: t.me/CheMed123\n",
      "2024-10-11 23:01:11,396 - INFO - Finished scraping messages from channel: t.me/CheMed123\n",
      "2024-10-11 23:01:11,397 - INFO - Scraping messages from channel: t.me/EAHCI\n",
      "2024-10-11 23:01:33,478 - INFO - Finished scraping messages from channel: t.me/EAHCI\n",
      "2024-10-11 23:01:33,480 - INFO - Scraping messages from channel: yetenaweg\n",
      "2024-10-11 23:01:45,443 - INFO - Finished scraping messages from channel: yetenaweg\n",
      "2024-10-11 23:01:46,558 - INFO - Data successfully saved to '../data/scraped_telegram_messages.csv'\n"
     ]
    },
    {
     "data": {
      "text/html": [
       "<div>\n",
       "<style scoped>\n",
       "    .dataframe tbody tr th:only-of-type {\n",
       "        vertical-align: middle;\n",
       "    }\n",
       "\n",
       "    .dataframe tbody tr th {\n",
       "        vertical-align: top;\n",
       "    }\n",
       "\n",
       "    .dataframe thead th {\n",
       "        text-align: right;\n",
       "    }\n",
       "</style>\n",
       "<table border=\"1\" class=\"dataframe\">\n",
       "  <thead>\n",
       "    <tr style=\"text-align: right;\">\n",
       "      <th></th>\n",
       "      <th>message_idid</th>\n",
       "      <th>text</th>\n",
       "      <th>sender</th>\n",
       "      <th>channel</th>\n",
       "      <th>date</th>\n",
       "    </tr>\n",
       "  </thead>\n",
       "  <tbody>\n",
       "    <tr>\n",
       "      <th>0</th>\n",
       "      <td>DoctorsET_864</td>\n",
       "      <td>https://youtu.be/5DBoEm-8kmA?si=LDLuEecNfULJVD...</td>\n",
       "      <td>-1001102021238</td>\n",
       "      <td>DoctorsET</td>\n",
       "      <td>2023-12-18 17:04:02+00:00</td>\n",
       "    </tr>\n",
       "    <tr>\n",
       "      <th>1</th>\n",
       "      <td>DoctorsET_863</td>\n",
       "      <td>ዶክተርስ ኢትዮጵያ በ አዲስ አቀራረብ በ ቴሌቪዥን ፕሮግራሙን ለመጀመር ከ...</td>\n",
       "      <td>-1001102021238</td>\n",
       "      <td>DoctorsET</td>\n",
       "      <td>2023-11-03 16:14:39+00:00</td>\n",
       "    </tr>\n",
       "    <tr>\n",
       "      <th>2</th>\n",
       "      <td>DoctorsET_862</td>\n",
       "      <td>ሞት በስኳር \\n\\nለልጆቻችን የምናሲዘው ምሳቃ ሳናቀው እድሚያቸውን ይቀን...</td>\n",
       "      <td>-1001102021238</td>\n",
       "      <td>DoctorsET</td>\n",
       "      <td>2023-10-02 16:37:39+00:00</td>\n",
       "    </tr>\n",
       "    <tr>\n",
       "      <th>3</th>\n",
       "      <td>DoctorsET_861</td>\n",
       "      <td>ከ HIV የተፈወሰ ሰው አጋጥሟችሁ ያቃል ? ፈውስ እና ህክምና ?\\n\\nሙ...</td>\n",
       "      <td>-1001102021238</td>\n",
       "      <td>DoctorsET</td>\n",
       "      <td>2023-09-16 07:54:32+00:00</td>\n",
       "    </tr>\n",
       "    <tr>\n",
       "      <th>4</th>\n",
       "      <td>DoctorsET_860</td>\n",
       "      <td>በቅርብ ጊዜ በሃገራችን ላይ እየተስተዋለ ያለ የተመሳሳይ ፆታ ( Homos...</td>\n",
       "      <td>-1001102021238</td>\n",
       "      <td>DoctorsET</td>\n",
       "      <td>2023-09-01 16:16:15+00:00</td>\n",
       "    </tr>\n",
       "    <tr>\n",
       "      <th>...</th>\n",
       "      <td>...</td>\n",
       "      <td>...</td>\n",
       "      <td>...</td>\n",
       "      <td>...</td>\n",
       "      <td>...</td>\n",
       "    </tr>\n",
       "    <tr>\n",
       "      <th>6355</th>\n",
       "      <td>yetenaweg_5</td>\n",
       "      <td>ይህ አዲሱ የኮሮና ቫይረስ በማይክሮስኮፕ ስር ሲታይ ያለው ምስል ነው። ኮ...</td>\n",
       "      <td>-1001447066276</td>\n",
       "      <td>yetenaweg</td>\n",
       "      <td>2020-02-17 20:58:59+00:00</td>\n",
       "    </tr>\n",
       "    <tr>\n",
       "      <th>6356</th>\n",
       "      <td>yetenaweg_4</td>\n",
       "      <td>አዲሱ የኮሮና ቫይረስ (በአዲስ የሳይንስ ስሙ COVID-19) ፣\\nከየት ...</td>\n",
       "      <td>-1001447066276</td>\n",
       "      <td>yetenaweg</td>\n",
       "      <td>2020-02-17 20:55:46+00:00</td>\n",
       "    </tr>\n",
       "    <tr>\n",
       "      <th>6357</th>\n",
       "      <td>yetenaweg_3</td>\n",
       "      <td></td>\n",
       "      <td>-1001447066276</td>\n",
       "      <td>yetenaweg</td>\n",
       "      <td>2020-02-17 20:55:05+00:00</td>\n",
       "    </tr>\n",
       "    <tr>\n",
       "      <th>6358</th>\n",
       "      <td>yetenaweg_2</td>\n",
       "      <td></td>\n",
       "      <td>-1001447066276</td>\n",
       "      <td>yetenaweg</td>\n",
       "      <td>2020-01-17 01:35:09+00:00</td>\n",
       "    </tr>\n",
       "    <tr>\n",
       "      <th>6359</th>\n",
       "      <td>yetenaweg_1</td>\n",
       "      <td></td>\n",
       "      <td>-1001447066276</td>\n",
       "      <td>yetenaweg</td>\n",
       "      <td>2020-01-17 01:28:32+00:00</td>\n",
       "    </tr>\n",
       "  </tbody>\n",
       "</table>\n",
       "<p>6360 rows × 5 columns</p>\n",
       "</div>"
      ],
      "text/plain": [
       "       message_idid                                               text  \\\n",
       "0     DoctorsET_864  https://youtu.be/5DBoEm-8kmA?si=LDLuEecNfULJVD...   \n",
       "1     DoctorsET_863  ዶክተርስ ኢትዮጵያ በ አዲስ አቀራረብ በ ቴሌቪዥን ፕሮግራሙን ለመጀመር ከ...   \n",
       "2     DoctorsET_862  ሞት በስኳር \\n\\nለልጆቻችን የምናሲዘው ምሳቃ ሳናቀው እድሚያቸውን ይቀን...   \n",
       "3     DoctorsET_861  ከ HIV የተፈወሰ ሰው አጋጥሟችሁ ያቃል ? ፈውስ እና ህክምና ?\\n\\nሙ...   \n",
       "4     DoctorsET_860  በቅርብ ጊዜ በሃገራችን ላይ እየተስተዋለ ያለ የተመሳሳይ ፆታ ( Homos...   \n",
       "...             ...                                                ...   \n",
       "6355    yetenaweg_5  ይህ አዲሱ የኮሮና ቫይረስ በማይክሮስኮፕ ስር ሲታይ ያለው ምስል ነው። ኮ...   \n",
       "6356    yetenaweg_4  አዲሱ የኮሮና ቫይረስ (በአዲስ የሳይንስ ስሙ COVID-19) ፣\\nከየት ...   \n",
       "6357    yetenaweg_3                                                      \n",
       "6358    yetenaweg_2                                                      \n",
       "6359    yetenaweg_1                                                      \n",
       "\n",
       "             sender    channel                      date  \n",
       "0    -1001102021238  DoctorsET 2023-12-18 17:04:02+00:00  \n",
       "1    -1001102021238  DoctorsET 2023-11-03 16:14:39+00:00  \n",
       "2    -1001102021238  DoctorsET 2023-10-02 16:37:39+00:00  \n",
       "3    -1001102021238  DoctorsET 2023-09-16 07:54:32+00:00  \n",
       "4    -1001102021238  DoctorsET 2023-09-01 16:16:15+00:00  \n",
       "...             ...        ...                       ...  \n",
       "6355 -1001447066276  yetenaweg 2020-02-17 20:58:59+00:00  \n",
       "6356 -1001447066276  yetenaweg 2020-02-17 20:55:46+00:00  \n",
       "6357 -1001447066276  yetenaweg 2020-02-17 20:55:05+00:00  \n",
       "6358 -1001447066276  yetenaweg 2020-01-17 01:35:09+00:00  \n",
       "6359 -1001447066276  yetenaweg 2020-01-17 01:28:32+00:00  \n",
       "\n",
       "[6360 rows x 5 columns]"
      ]
     },
     "execution_count": 15,
     "metadata": {},
     "output_type": "execute_result"
    }
   ],
   "source": [
    "# Run the main function\n",
    "await main()"
   ]
  },
  {
   "attachments": {},
   "cell_type": "markdown",
   "metadata": {},
   "source": [
    "### Extract Images from telegram channels"
   ]
  },
  {
   "cell_type": "code",
   "execution_count": 12,
   "metadata": {},
   "outputs": [],
   "source": [
    "# Asynchronous main function to run the scraping process\n",
    "async def main():\n",
    "    channel_urls = ['t.me/lobelia4cosmetics', 't.me/CheMed123']\n",
    "    try:\n",
    "        # Start the Telegram client\n",
    "        await client.start(phone=phone_number)\n",
    "        \n",
    "        # Scrape channels\n",
    "        for channel_url in channel_urls:\n",
    "            await scrape_images(channel_url, client)\n",
    "    except Exception as e:\n",
    "        logging.error(f\"Error in main process: {e}\")"
   ]
  },
  {
   "cell_type": "code",
   "execution_count": null,
   "metadata": {},
   "outputs": [
    {
     "name": "stderr",
     "output_type": "stream",
     "text": [
      "2024-10-11 23:04:13,546 - INFO - Got difference for channel 2199474728 updates\n",
      "2024-10-11 23:04:13,718 - INFO - Got difference for channel 2150581662 updates\n"
     ]
    }
   ],
   "source": [
    "await main()"
   ]
  }
 ],
 "metadata": {
  "kernelspec": {
   "display_name": ".venv",
   "language": "python",
   "name": "python3"
  },
  "language_info": {
   "codemirror_mode": {
    "name": "ipython",
    "version": 3
   },
   "file_extension": ".py",
   "mimetype": "text/x-python",
   "name": "python",
   "nbconvert_exporter": "python",
   "pygments_lexer": "ipython3",
   "version": "3.12.6"
  },
  "orig_nbformat": 4
 },
 "nbformat": 4,
 "nbformat_minor": 2
}
