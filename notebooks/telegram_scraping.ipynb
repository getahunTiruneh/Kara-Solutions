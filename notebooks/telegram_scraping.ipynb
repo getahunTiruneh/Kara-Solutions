{
 "cells": [
  {
   "cell_type": "code",
   "execution_count": 1,
   "metadata": {},
   "outputs": [],
   "source": [
    "# Import required modules\n",
    "import os\n",
    "import sys\n",
    "import asyncio\n",
    "import nest_asyncio\n",
    "import logging\n",
    "import pandas as pd\n",
    "from dotenv import load_dotenv\n",
    "from telethon import TelegramClient\n",
    "\n",
    "current_dir = os.getcwd()\n",
    "# Append the parent directory to sys.path\n",
    "parent_dir = os.path.dirname(current_dir)\n",
    "sys.path.append(parent_dir)\n",
    "\n",
    "# ignore warrnings\n",
    "import warnings\n",
    "warnings.filterwarnings(\"ignore\")"
   ]
  },
  {
   "cell_type": "code",
   "execution_count": 2,
   "metadata": {},
   "outputs": [],
   "source": [
    "# Import custom scripts\n",
    "from scripts.photo_scraper import download_images\n",
    "from scripts.telegram_data_scraping import scrape_messages"
   ]
  },
  {
   "cell_type": "code",
   "execution_count": 3,
   "metadata": {},
   "outputs": [],
   "source": [
    "# Apply nest_asyncio to handle event loop issues in Jupyter\n",
    "nest_asyncio.apply()"
   ]
  },
  {
   "cell_type": "code",
   "execution_count": 4,
   "metadata": {},
   "outputs": [
    {
     "data": {
      "text/plain": [
       "True"
      ]
     },
     "execution_count": 4,
     "metadata": {},
     "output_type": "execute_result"
    }
   ],
   "source": [
    "# Load environment variables from .env file\n",
    "load_dotenv()"
   ]
  },
  {
   "cell_type": "code",
   "execution_count": 5,
   "metadata": {},
   "outputs": [],
   "source": [
    "# Fetch API credentials from .env\n",
    "api_id = os.getenv('API_ID')\n",
    "api_hash = os.getenv('API_HASH')\n",
    "phone_number = os.getenv('PHONE_NUMBER')"
   ]
  },
  {
   "cell_type": "code",
   "execution_count": 6,
   "metadata": {},
   "outputs": [],
   "source": [
    "# Initialize logging\n",
    "logging.basicConfig(\n",
    "    level=logging.INFO,\n",
    "    format='%(asctime)s - %(levelname)s - %(message)s',\n",
    "    handlers=[\n",
    "        logging.FileHandler(\"scraping.log\"),  # Save logs to a file\n",
    "        logging.StreamHandler()  # Output logs to console\n",
    "    ]\n",
    ")"
   ]
  },
  {
   "cell_type": "code",
   "execution_count": 7,
   "metadata": {},
   "outputs": [],
   "source": [
    "# Initialize the Telegram client using environment variables\n",
    "client = TelegramClient('session_name', api_id, api_hash)"
   ]
  },
  {
   "cell_type": "code",
   "execution_count": 8,
   "metadata": {},
   "outputs": [],
   "source": [
    "# Function to scrape images and messages from channels\n",
    "async def scrape_channels(channel_urls):\n",
    "    all_messages = []\n",
    "\n",
    "    for channel_url in channel_urls:\n",
    "        # Scrape and download images\n",
    "        # await scrape_images(channel_url)\n",
    "        \n",
    "        # Scrape messages and store in DataFrame\n",
    "        df = await scrape_messages(channel_url, client)\n",
    "        all_messages.append(df)\n",
    "\n",
    "    # Combine all DataFrames\n",
    "    final_df = pd.concat(all_messages, ignore_index=True)\n",
    "    return final_df"
   ]
  },
  {
   "cell_type": "code",
   "execution_count": 9,
   "metadata": {},
   "outputs": [],
   "source": [
    "# Function to scrape images from a channel\n",
    "async def scrape_images(channel_url):\n",
    "    try:\n",
    "        logging.info(f\"Scraping images from channel: {channel_url}\")\n",
    "        # Get the channel entity\n",
    "        channel = await client.get_entity(channel_url)\n",
    "        channel_name = channel.username or channel.title.replace(' ', '_')\n",
    "\n",
    "        # Scrape messages and download images\n",
    "        async for message in client.iter_messages(channel):\n",
    "            await download_images(message, channel_name, client)\n",
    "        logging.info(f\"Finished scraping images from channel: {channel_url}\")\n",
    "    except Exception as e:\n",
    "        logging.error(f\"Error scraping images from channel {channel_url}: {e}\")"
   ]
  },
  {
   "cell_type": "code",
   "execution_count": 13,
   "metadata": {},
   "outputs": [],
   "source": [
    "# Run the scraping in the notebook\n",
    "async def main():\n",
    "    channel_urls = ['t.me/DoctorsET', 't.me/lobelia4cosmetics', 't.me/CheMed123', 't.me/EAHCI', 'yetenaweg']  # Add your channel URLs here\n",
    "\n",
    "    try:\n",
    "        # Start the Telegram client\n",
    "        await client.start(phone=phone_number)\n",
    "        \n",
    "        # Scrape channels and get the final DataFrame\n",
    "        df = await scrape_channels(channel_urls)\n",
    "        \n",
    "        # Save the DataFrame to a CSV file\n",
    "        df.to_csv('scraped_telegram_messages.csv', index=False)\n",
    "        \n",
    "        logging.info(\"Data successfully saved to 'scraped_telegram_messages.csv'\")\n",
    "        return df\n",
    "    except Exception as e:\n",
    "        logging.error(f\"Error in main process: {e}\")"
   ]
  },
  {
   "cell_type": "code",
   "execution_count": 14,
   "metadata": {},
   "outputs": [
    {
     "name": "stderr",
     "output_type": "stream",
     "text": [
      "2024-10-10 20:12:53,448 - INFO - Scraping messages from channel: t.me/DoctorsET\n",
      "2024-10-10 20:13:02,933 - INFO - Finished scraping messages from channel: t.me/DoctorsET\n",
      "2024-10-10 20:13:02,937 - INFO - Scraping messages from channel: t.me/lobelia4cosmetics\n",
      "2024-10-10 20:13:29,127 - INFO - Finished scraping messages from channel: t.me/lobelia4cosmetics\n",
      "2024-10-10 20:13:29,130 - INFO - Scraping messages from channel: t.me/CheMed123\n",
      "2024-10-10 20:13:30,300 - INFO - Finished scraping messages from channel: t.me/CheMed123\n",
      "2024-10-10 20:13:30,301 - INFO - Scraping messages from channel: t.me/EAHCI\n",
      "2024-10-10 20:14:46,730 - INFO - Finished scraping messages from channel: t.me/EAHCI\n",
      "2024-10-10 20:14:46,733 - INFO - Scraping messages from channel: yetenaweg\n",
      "2024-10-10 20:15:00,576 - INFO - Finished scraping messages from channel: yetenaweg\n",
      "2024-10-10 20:15:00,852 - INFO - Data successfully saved to 'scraped_telegram_messages.csv'\n"
     ]
    }
   ],
   "source": [
    "# Run the main function\n",
    "# df = await main()"
   ]
  },
  {
   "cell_type": "code",
   "execution_count": 15,
   "metadata": {},
   "outputs": [
    {
     "data": {
      "text/html": [
       "<div>\n",
       "<style scoped>\n",
       "    .dataframe tbody tr th:only-of-type {\n",
       "        vertical-align: middle;\n",
       "    }\n",
       "\n",
       "    .dataframe tbody tr th {\n",
       "        vertical-align: top;\n",
       "    }\n",
       "\n",
       "    .dataframe thead th {\n",
       "        text-align: right;\n",
       "    }\n",
       "</style>\n",
       "<table border=\"1\" class=\"dataframe\">\n",
       "  <thead>\n",
       "    <tr style=\"text-align: right;\">\n",
       "      <th></th>\n",
       "      <th>id</th>\n",
       "      <th>text</th>\n",
       "      <th>sender</th>\n",
       "      <th>channel</th>\n",
       "      <th>date</th>\n",
       "    </tr>\n",
       "  </thead>\n",
       "  <tbody>\n",
       "    <tr>\n",
       "      <th>0</th>\n",
       "      <td>864</td>\n",
       "      <td>https://youtu.be/5DBoEm-8kmA?si=LDLuEecNfULJVD...</td>\n",
       "      <td>-1001102021238</td>\n",
       "      <td>DoctorsET</td>\n",
       "      <td>2023-12-18 17:04:02+00:00</td>\n",
       "    </tr>\n",
       "    <tr>\n",
       "      <th>1</th>\n",
       "      <td>863</td>\n",
       "      <td>ዶክተርስ ኢትዮጵያ በ አዲስ አቀራረብ በ ቴሌቪዥን ፕሮግራሙን ለመጀመር ከ...</td>\n",
       "      <td>-1001102021238</td>\n",
       "      <td>DoctorsET</td>\n",
       "      <td>2023-11-03 16:14:39+00:00</td>\n",
       "    </tr>\n",
       "    <tr>\n",
       "      <th>2</th>\n",
       "      <td>862</td>\n",
       "      <td>ሞት በስኳር \\n\\nለልጆቻችን የምናሲዘው ምሳቃ ሳናቀው እድሚያቸውን ይቀን...</td>\n",
       "      <td>-1001102021238</td>\n",
       "      <td>DoctorsET</td>\n",
       "      <td>2023-10-02 16:37:39+00:00</td>\n",
       "    </tr>\n",
       "    <tr>\n",
       "      <th>3</th>\n",
       "      <td>861</td>\n",
       "      <td>ከ HIV የተፈወሰ ሰው አጋጥሟችሁ ያቃል ? ፈውስ እና ህክምና ?\\n\\nሙ...</td>\n",
       "      <td>-1001102021238</td>\n",
       "      <td>DoctorsET</td>\n",
       "      <td>2023-09-16 07:54:32+00:00</td>\n",
       "    </tr>\n",
       "    <tr>\n",
       "      <th>4</th>\n",
       "      <td>860</td>\n",
       "      <td>በቅርብ ጊዜ በሃገራችን ላይ እየተስተዋለ ያለ የተመሳሳይ ፆታ ( Homos...</td>\n",
       "      <td>-1001102021238</td>\n",
       "      <td>DoctorsET</td>\n",
       "      <td>2023-09-01 16:16:15+00:00</td>\n",
       "    </tr>\n",
       "    <tr>\n",
       "      <th>...</th>\n",
       "      <td>...</td>\n",
       "      <td>...</td>\n",
       "      <td>...</td>\n",
       "      <td>...</td>\n",
       "      <td>...</td>\n",
       "    </tr>\n",
       "    <tr>\n",
       "      <th>6364</th>\n",
       "      <td>5</td>\n",
       "      <td>ይህ አዲሱ የኮሮና ቫይረስ በማይክሮስኮፕ ስር ሲታይ ያለው ምስል ነው። ኮ...</td>\n",
       "      <td>-1001447066276</td>\n",
       "      <td>yetenaweg</td>\n",
       "      <td>2020-02-17 20:58:59+00:00</td>\n",
       "    </tr>\n",
       "    <tr>\n",
       "      <th>6365</th>\n",
       "      <td>4</td>\n",
       "      <td>አዲሱ የኮሮና ቫይረስ (በአዲስ የሳይንስ ስሙ COVID-19) ፣\\nከየት ...</td>\n",
       "      <td>-1001447066276</td>\n",
       "      <td>yetenaweg</td>\n",
       "      <td>2020-02-17 20:55:46+00:00</td>\n",
       "    </tr>\n",
       "    <tr>\n",
       "      <th>6366</th>\n",
       "      <td>3</td>\n",
       "      <td></td>\n",
       "      <td>-1001447066276</td>\n",
       "      <td>yetenaweg</td>\n",
       "      <td>2020-02-17 20:55:05+00:00</td>\n",
       "    </tr>\n",
       "    <tr>\n",
       "      <th>6367</th>\n",
       "      <td>2</td>\n",
       "      <td></td>\n",
       "      <td>-1001447066276</td>\n",
       "      <td>yetenaweg</td>\n",
       "      <td>2020-01-17 01:35:09+00:00</td>\n",
       "    </tr>\n",
       "    <tr>\n",
       "      <th>6368</th>\n",
       "      <td>1</td>\n",
       "      <td></td>\n",
       "      <td>-1001447066276</td>\n",
       "      <td>yetenaweg</td>\n",
       "      <td>2020-01-17 01:28:32+00:00</td>\n",
       "    </tr>\n",
       "  </tbody>\n",
       "</table>\n",
       "<p>6369 rows × 5 columns</p>\n",
       "</div>"
      ],
      "text/plain": [
       "       id                                               text         sender  \\\n",
       "0     864  https://youtu.be/5DBoEm-8kmA?si=LDLuEecNfULJVD... -1001102021238   \n",
       "1     863  ዶክተርስ ኢትዮጵያ በ አዲስ አቀራረብ በ ቴሌቪዥን ፕሮግራሙን ለመጀመር ከ... -1001102021238   \n",
       "2     862  ሞት በስኳር \\n\\nለልጆቻችን የምናሲዘው ምሳቃ ሳናቀው እድሚያቸውን ይቀን... -1001102021238   \n",
       "3     861  ከ HIV የተፈወሰ ሰው አጋጥሟችሁ ያቃል ? ፈውስ እና ህክምና ?\\n\\nሙ... -1001102021238   \n",
       "4     860  በቅርብ ጊዜ በሃገራችን ላይ እየተስተዋለ ያለ የተመሳሳይ ፆታ ( Homos... -1001102021238   \n",
       "...   ...                                                ...            ...   \n",
       "6364    5  ይህ አዲሱ የኮሮና ቫይረስ በማይክሮስኮፕ ስር ሲታይ ያለው ምስል ነው። ኮ... -1001447066276   \n",
       "6365    4  አዲሱ የኮሮና ቫይረስ (በአዲስ የሳይንስ ስሙ COVID-19) ፣\\nከየት ... -1001447066276   \n",
       "6366    3                                                    -1001447066276   \n",
       "6367    2                                                    -1001447066276   \n",
       "6368    1                                                    -1001447066276   \n",
       "\n",
       "        channel                      date  \n",
       "0     DoctorsET 2023-12-18 17:04:02+00:00  \n",
       "1     DoctorsET 2023-11-03 16:14:39+00:00  \n",
       "2     DoctorsET 2023-10-02 16:37:39+00:00  \n",
       "3     DoctorsET 2023-09-16 07:54:32+00:00  \n",
       "4     DoctorsET 2023-09-01 16:16:15+00:00  \n",
       "...         ...                       ...  \n",
       "6364  yetenaweg 2020-02-17 20:58:59+00:00  \n",
       "6365  yetenaweg 2020-02-17 20:55:46+00:00  \n",
       "6366  yetenaweg 2020-02-17 20:55:05+00:00  \n",
       "6367  yetenaweg 2020-01-17 01:35:09+00:00  \n",
       "6368  yetenaweg 2020-01-17 01:28:32+00:00  \n",
       "\n",
       "[6369 rows x 5 columns]"
      ]
     },
     "execution_count": 15,
     "metadata": {},
     "output_type": "execute_result"
    }
   ],
   "source": [
    "df"
   ]
  },
  {
   "cell_type": "code",
   "execution_count": 17,
   "metadata": {},
   "outputs": [],
   "source": [
    "# Run the scraping in the notebook\n",
    "async def main():\n",
    "    channel_urls = ['t.me/lobelia4cosmetics', 't.me/CheMed123']\n",
    "    try:\n",
    "        # Start the Telegram client\n",
    "        await client.start(phone=phone_number)\n",
    "        \n",
    "        # Scrape channels and get the final DataFrame\n",
    "        await scrape_channels(channel_urls)\n",
    "        \n",
    "    except Exception as e:\n",
    "        logging.error(f\"Error in main process: {e}\")"
   ]
  },
  {
   "cell_type": "code",
   "execution_count": null,
   "metadata": {},
   "outputs": [],
   "source": []
  }
 ],
 "metadata": {
  "kernelspec": {
   "display_name": ".venv",
   "language": "python",
   "name": "python3"
  },
  "language_info": {
   "codemirror_mode": {
    "name": "ipython",
    "version": 3
   },
   "file_extension": ".py",
   "mimetype": "text/x-python",
   "name": "python",
   "nbconvert_exporter": "python",
   "pygments_lexer": "ipython3",
   "version": "3.12.6"
  },
  "orig_nbformat": 4
 },
 "nbformat": 4,
 "nbformat_minor": 2
}
